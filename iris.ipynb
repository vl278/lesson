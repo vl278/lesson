{
 "cells": [
  {
   "cell_type": "code",
   "execution_count": 1,
   "id": "52db8087-6017-408d-bf2c-4ff89a959777",
   "metadata": {},
   "outputs": [],
   "source": [
    "import pandas as pd\n",
    "import matplotlib \n",
    "import sys\n",
    "import numpy.random as np\n",
    "import matplotlib.pyplot as plt\n",
    "%matplotlib inline"
   ]
  },
  {
   "cell_type": "code",
   "execution_count": 5,
   "id": "7862c0c7-711b-4ea6-b39b-3c25b7b1628a",
   "metadata": {},
   "outputs": [
    {
     "data": {
      "text/plain": [
       "function"
      ]
     },
     "execution_count": 5,
     "metadata": {},
     "output_type": "execute_result"
    }
   ],
   "source": [
    "from sklearn.datasets import load_iris\n",
    "iris = load_iris\n",
    "type(iris)"
   ]
  },
  {
   "cell_type": "code",
   "execution_count": 7,
   "id": "b9bdfe39-53da-42a6-b551-eea8e9fb6e4b",
   "metadata": {},
   "outputs": [],
   "source": [
    "X=iris().data\n",
    "Y=iris().target"
   ]
  },
  {
   "cell_type": "code",
   "execution_count": 9,
   "id": "defdc4f5-3bfd-401a-9890-e964e8980d87",
   "metadata": {},
   "outputs": [],
   "source": [
    "from sklearn.tree import DecisionTreeClassifier\n",
    "from sklearn.model_selection import train_test_split\n",
    "\n",
    "X_train, X_test, Y_train, Y_test = train_test_split(X, Y, test_size=0.33, random_state=243)"
   ]
  },
  {
   "cell_type": "code",
   "execution_count": 10,
   "id": "eb38c1b8-a4d8-4482-b07c-07f24e932830",
   "metadata": {},
   "outputs": [],
   "source": [
    "from sklearn.metrics import recall_score"
   ]
  },
  {
   "cell_type": "code",
   "execution_count": 13,
   "id": "01e94feb-abb8-48b3-a7c5-ebb266b87788",
   "metadata": {},
   "outputs": [
    {
     "name": "stdout",
     "output_type": "stream",
     "text": [
      "0.6\n",
      "1\n",
      "0.96\n",
      "2\n"
     ]
    }
   ],
   "source": [
    "depth=1\n",
    "r_sc=0\n",
    "while r_sc< 0.8:\n",
    "    dt=DecisionTreeClassifier(criterion='entropy',max_depth=depth)\n",
    "    clf= dt.fit(X_train,Y_train)\n",
    "    y_pred=dt.predict(X_test)\n",
    "    r_sc=recall_score(Y_test,y_pred,average='micro')\n",
    "    print(r_sc)\n",
    "    print(depth)\n",
    "    depth+=1\n",
    "    "
   ]
  },
  {
   "cell_type": "code",
   "execution_count": null,
   "id": "6394d3f7-dfe3-44a8-a512-a8b6c0774525",
   "metadata": {},
   "outputs": [],
   "source": []
  }
 ],
 "metadata": {
  "kernelspec": {
   "display_name": "Python 3 (ipykernel)",
   "language": "python",
   "name": "python3"
  },
  "language_info": {
   "codemirror_mode": {
    "name": "ipython",
    "version": 3
   },
   "file_extension": ".py",
   "mimetype": "text/x-python",
   "name": "python",
   "nbconvert_exporter": "python",
   "pygments_lexer": "ipython3",
   "version": "3.10.13"
  }
 },
 "nbformat": 4,
 "nbformat_minor": 5
}
